{
 "cells": [
  {
   "cell_type": "code",
   "execution_count": 1,
   "id": "0bdbc34a-297e-4441-9b67-8114bb1c75cb",
   "metadata": {},
   "outputs": [
    {
     "name": "stdout",
     "output_type": "stream",
     "text": [
      "Defaulting to user installation because normal site-packages is not writeable\n",
      "Requirement already satisfied: pymysql in c:\\programdata\\anaconda3\\lib\\site-packages (1.1.1)\n",
      "Note: you may need to restart the kernel to use updated packages.\n"
     ]
    }
   ],
   "source": [
    "pip install pymysql"
   ]
  },
  {
   "cell_type": "code",
   "execution_count": null,
   "id": "51a83d90-dc9c-4b69-93d5-a2c4b25977f4",
   "metadata": {},
   "outputs": [
    {
     "name": "stdout",
     "output_type": "stream",
     "text": [
      "\n",
      " MENU:\n",
      "1. Add Student\n",
      "2. Add/Update Grade\n",
      "3. Calculate Average Grade\n",
      "4. Display All Students\n",
      "5. Exit\n"
     ]
    },
    {
     "name": "stdin",
     "output_type": "stream",
     "text": [
      "Enter your choice:  44\n"
     ]
    },
    {
     "name": "stdout",
     "output_type": "stream",
     "text": [
      " Invalid choice. Try again.\n",
      "\n",
      " MENU:\n",
      "1. Add Student\n",
      "2. Add/Update Grade\n",
      "3. Calculate Average Grade\n",
      "4. Display All Students\n",
      "5. Exit\n"
     ]
    },
    {
     "name": "stdin",
     "output_type": "stream",
     "text": [
      "Enter your choice:  \n"
     ]
    },
    {
     "name": "stdout",
     "output_type": "stream",
     "text": [
      " Invalid choice. Try again.\n",
      "\n",
      " MENU:\n",
      "1. Add Student\n",
      "2. Add/Update Grade\n",
      "3. Calculate Average Grade\n",
      "4. Display All Students\n",
      "5. Exit\n"
     ]
    },
    {
     "name": "stdin",
     "output_type": "stream",
     "text": [
      "Enter your choice:  4\n"
     ]
    },
    {
     "name": "stdout",
     "output_type": "stream",
     "text": [
      "\n",
      " All Students (From MySQL):\n",
      "Student: gani, Subject: java, Grade: 99\n",
      "Student: Teja Don, Subject: SQL, Grade: 99\n",
      "\n",
      " MENU:\n",
      "1. Add Student\n",
      "2. Add/Update Grade\n",
      "3. Calculate Average Grade\n",
      "4. Display All Students\n",
      "5. Exit\n"
     ]
    },
    {
     "name": "stdin",
     "output_type": "stream",
     "text": [
      "Enter your choice:  1\n",
      "Enter student name:  Varun\n"
     ]
    },
    {
     "name": "stdout",
     "output_type": "stream",
     "text": [
      "Varun has been added.\n",
      "\n",
      " MENU:\n",
      "1. Add Student\n",
      "2. Add/Update Grade\n",
      "3. Calculate Average Grade\n",
      "4. Display All Students\n",
      "5. Exit\n"
     ]
    },
    {
     "name": "stdin",
     "output_type": "stream",
     "text": [
      "Enter your choice:  2\n",
      "Enter student name:  Varun\n",
      "Enter subject:  Maths\n",
      "Enter grade:  99\n"
     ]
    },
    {
     "name": "stdout",
     "output_type": "stream",
     "text": [
      "Grade added/updated for Varun in Maths.\n",
      "\n",
      " MENU:\n",
      "1. Add Student\n",
      "2. Add/Update Grade\n",
      "3. Calculate Average Grade\n",
      "4. Display All Students\n",
      "5. Exit\n"
     ]
    },
    {
     "name": "stdin",
     "output_type": "stream",
     "text": [
      "Enter your choice:  3\n",
      "Enter student name:  Varun\n"
     ]
    },
    {
     "name": "stdout",
     "output_type": "stream",
     "text": [
      "Average grade for Varun is 99.00\n",
      "\n",
      " MENU:\n",
      "1. Add Student\n",
      "2. Add/Update Grade\n",
      "3. Calculate Average Grade\n",
      "4. Display All Students\n",
      "5. Exit\n"
     ]
    },
    {
     "name": "stdin",
     "output_type": "stream",
     "text": [
      "Enter your choice:  4\n"
     ]
    },
    {
     "name": "stdout",
     "output_type": "stream",
     "text": [
      "\n",
      " All Students (From MySQL):\n",
      "Student: gani, Subject: java, Grade: 99\n",
      "Student: Teja Don, Subject: SQL, Grade: 99\n",
      "Student: Varun, Subject: Maths, Grade: 99\n",
      "\n",
      " MENU:\n",
      "1. Add Student\n",
      "2. Add/Update Grade\n",
      "3. Calculate Average Grade\n",
      "4. Display All Students\n",
      "5. Exit\n"
     ]
    }
   ],
   "source": [
    "import pymysql\n",
    "\n",
    "connection = pymysql.connect(\n",
    "    host='localhost',\n",
    "    port=3307,  # Change to 3306 if your MySQL uses default port\n",
    "    user='root',\n",
    "    password='G@nesh8179#',\n",
    "    database='student_db'\n",
    ")\n",
    "\n",
    "cursor = connection.cursor()\n",
    "\n",
    "StudentDB = {}\n",
    "def add_student(name):\n",
    "    if name in StudentDB:\n",
    "        print(f\"{name} already exists.\")\n",
    "    else:\n",
    "        StudentDB[name] = {}\n",
    "        print(f\"{name} has been added.\")\n",
    "\n",
    "def add_grade(name, subject, grade):\n",
    "    if name not in StudentDB:\n",
    "        print(\"Student not found.\")\n",
    "        return\n",
    "\n",
    "    StudentDB[name][subject] = grade\n",
    "    print(f\"Grade added/updated for {name} in {subject}.\")\n",
    "\n",
    "    try:\n",
    "        cursor.execute(\"\"\"\n",
    "            INSERT INTO students (SName, Subject, Grades)\n",
    "            VALUES (%s, %s, %s)\n",
    "        \"\"\", (name, subject, grade))\n",
    "        connection.commit()\n",
    "    except Exception as e:\n",
    "        print(\" MySQL Error:\", e)\n",
    "\n",
    "def calculate_average(name):\n",
    "    if name not in StudentDB:\n",
    "        print(\"Student not found.\")\n",
    "        return\n",
    "    if not StudentDB[name]:\n",
    "        print(\"No grades available.\")\n",
    "        return\n",
    "\n",
    "    grades = list(StudentDB[name].values())\n",
    "    avg = sum(grades) / len(grades)\n",
    "    print(f\"Average grade for {name} is {avg:.2f}\")\n",
    "\n",
    "def display_all():\n",
    "    try:\n",
    "        cursor.execute(\"SELECT * FROM students\") \n",
    "        rows = cursor.fetchall()\n",
    "\n",
    "        if not rows:\n",
    "            print(\"No student records found.\")\n",
    "            return\n",
    "\n",
    "        print(\"\\n All Students (From MySQL):\")\n",
    "        for row in rows:\n",
    "            print(f\"Student: {row[0]}, Subject: {row[1]}, Grade: {row[2]}\")\n",
    "    except Exception as e:\n",
    "        print(\" MySQL Error:\", e)\n",
    "\n",
    "def menu():\n",
    "    while True:\n",
    "        print(\"\\n MENU:\")\n",
    "        print(\"1. Add Student\")\n",
    "        print(\"2. Add/Update Grade\")\n",
    "        print(\"3. Calculate Average Grade\")\n",
    "        print(\"4. Display All Students\")\n",
    "        print(\"5. Exit\")\n",
    "\n",
    "        choice = input(\"Enter your choice: \")\n",
    "\n",
    "        if choice == '1':\n",
    "            name = input(\"Enter student name: \")\n",
    "            add_student(name)\n",
    "        elif choice == '2':\n",
    "            name = input(\"Enter student name: \")\n",
    "            subject = input(\"Enter subject: \")\n",
    "            try:\n",
    "                grade = float(input(\"Enter grade: \"))\n",
    "                add_grade(name, subject, grade)\n",
    "            except ValueError:\n",
    "                print(\" Grade must be a number.\")\n",
    "        elif choice == '3':\n",
    "            name = input(\"Enter student name: \")\n",
    "            calculate_average(name)\n",
    "        elif choice == '4':\n",
    "            display_all()\n",
    "        elif choice == '5':\n",
    "            print(\" Exiting program.\")\n",
    "            break\n",
    "        else:\n",
    "            print(\" Invalid choice. Try again.\")\n",
    "\n",
    "menu()\n",
    "cursor.close()\n",
    "connection.close()\n"
   ]
  },
  {
   "cell_type": "code",
   "execution_count": null,
   "id": "40a016bf-2787-4dd4-81f0-69140579808b",
   "metadata": {},
   "outputs": [],
   "source": []
  }
 ],
 "metadata": {
  "kernelspec": {
   "display_name": "Python [conda env:base] *",
   "language": "python",
   "name": "conda-base-py"
  },
  "language_info": {
   "codemirror_mode": {
    "name": "ipython",
    "version": 3
   },
   "file_extension": ".py",
   "mimetype": "text/x-python",
   "name": "python",
   "nbconvert_exporter": "python",
   "pygments_lexer": "ipython3",
   "version": "3.12.7"
  }
 },
 "nbformat": 4,
 "nbformat_minor": 5
}
